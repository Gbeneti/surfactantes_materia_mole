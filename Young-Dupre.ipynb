{
 "cells": [
  {
   "cell_type": "code",
   "execution_count": 1,
   "metadata": {},
   "outputs": [],
   "source": [
    "import numpy as np\n",
    "import matplotlib.pyplot as plt"
   ]
  },
  {
   "cell_type": "code",
   "execution_count": 2,
   "metadata": {},
   "outputs": [],
   "source": [
    "def calculate_contact_angle(gamma_sv, gamma_sl, gamma_lv):\n",
    "    \"\"\"\n",
    "    Calculates the contact angle based on Young-Dupré equation.\n",
    "    \n",
    "    Parameters:\n",
    "    gamma_sv (float): Interfacial tension between solid and vapor (mN/m)\n",
    "    gamma_sl (float): Interfacial tension between solid and liquid (mN/m)\n",
    "    gamma_lv (float): Interfacial tension between liquid and vapor (mN/m)\n",
    "    \n",
    "    Returns:\n",
    "    float: Contact angle in degrees, or a message if unphysical.\n",
    "    \"\"\"\n",
    "    # Calculate the cosine of the contact angle\n",
    "    cos_theta = (gamma_sv - gamma_sl) / gamma_lv\n",
    "    print(f\"cos_theta -> {cos_theta} = ({gamma_sv} - {gamma_sl}) / {gamma_lv}\")\n",
    "    \n",
    "    # Check if the result is within the physical range\n",
    "    if cos_theta < -1 or cos_theta > 1:\n",
    "        return None, \"Unphysical values. Please check the interfacial tensions.\"\n",
    "    \n",
    "    # Calculate the contact angle in radians\n",
    "    theta_radians = np.arccos(cos_theta)\n",
    "    \n",
    "    return theta_radians, None\n",
    "\n",
    "def plot_droplet(theta_radians):\n",
    "    \"\"\"\n",
    "    Plots a droplet with a given contact angle on a solid surface.\n",
    "    \n",
    "    Parameters:\n",
    "    theta_radians (float): Contact angle in radians.\n",
    "    \"\"\"\n",
    "    # Define the circle parameters\n",
    "    radius = 1  # Arbitrary radius\n",
    "    center = (0, 1.5) \n",
    "    \n",
    "    # Create an array of angles from pi to 2*pi - theta\n",
    "    theta = np.linspace(np.pi - theta_radians, np.pi + theta_radians, 100)\n",
    "    \n",
    "    # Calculate x, y coordinates of the droplet\n",
    "    x = center[0] + radius * np.cos(theta)\n",
    "    y = center[1] + radius * np.sin(theta)\n",
    "    \n",
    "    # Plotting the droplet\n",
    "    plt.figure(figsize=(8, 8))\n",
    "    plt.plot(x, y, 'b')  # Droplet\n",
    "    plt.plot([x[-1], x[-1]], [-3*radius, 3*radius], 'k')  # Surface\n",
    "    plt.fill_between(x, y, 0, color='blue', alpha=0.3)  # Fill droplet\n",
    "    plt.xlim(-1.5*radius, 1.5*radius)\n",
    "    plt.ylim(0.4*radius, 2.6*radius)\n",
    "    plt.gca().set_aspect('equal', adjustable='box')\n",
    "    plt.title(f\"Contact Angle = {np.degrees(theta_radians):.2f}°\")\n",
    "    plt.xlabel(\" \")\n",
    "    plt.ylabel(\" \")\n",
    "    plt.tick_params(left = False, bottom = False, labelleft = False, labelbottom = False) \n",
    "    plt.show()\n"
   ]
  },
  {
   "cell_type": "code",
   "execution_count": 3,
   "metadata": {},
   "outputs": [
    {
     "name": "stdout",
     "output_type": "stream",
     "text": [
      "cos_theta -> 0.25 = (25 - 20) / 20\n"
     ]
    },
    {
     "data": {
      "image/png": "[encoded data removed]",
      "text/plain": [
       "<Figure size 800x800 with 1 Axes>"
      ]
     },
     "metadata": {},
     "output_type": "display_data"
    }
   ],
   "source": [
    "# determine\n",
    "gamma_sv = 25 #solido-vapor\n",
    "gamma_sl = 20 #solido-liquido\n",
    "gamma_lv = 20 #liquido-vapor\n",
    "\n",
    "theta_radians, error = calculate_contact_angle(gamma_sv, gamma_sl, gamma_lv)\n",
    "if theta_radians is not None:\n",
    "    plot_droplet(theta_radians)\n",
    "else:\n",
    "    print(error)\n"
   ]
  },
  {
   "cell_type": "code",
   "execution_count": null,
   "metadata": {},
   "outputs": [],
   "source": []
  }
 ],
 "metadata": {
  "kernelspec": {
   "display_name": "Python 3",
   "language": "python",
   "name": "python3"
  },
  "language_info": {
   "codemirror_mode": {
    "name": "ipython",
    "version": 3
   },
   "file_extension": ".py",
   "mimetype": "text/x-python",
   "name": "python",
   "nbconvert_exporter": "python",
   "pygments_lexer": "ipython3",
   "version": "3.11.6"
  }
 },
 "nbformat": 4,
 "nbformat_minor": 4
}
